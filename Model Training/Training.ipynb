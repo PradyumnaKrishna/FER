{
  "nbformat": 4,
  "nbformat_minor": 0,
  "metadata": {
    "accelerator": "GPU",
    "colab": {
      "name": "Facial_Expression_Training.ipynb",
      "provenance": [],
      "collapsed_sections": [],
      "toc_visible": true,
      "include_colab_link": true
    },
    "kernelspec": {
      "display_name": "Python 3",
      "language": "python",
      "name": "python3"
    },
    "language_info": {
      "codemirror_mode": {
        "name": "ipython",
        "version": 3
      },
      "file_extension": ".py",
      "mimetype": "text/x-python",
      "name": "python",
      "nbconvert_exporter": "python",
      "pygments_lexer": "ipython3",
      "version": "3.7.4"
    }
  },
  "cells": [
    {
      "cell_type": "markdown",
      "metadata": {
        "id": "GmYpmu_H0r9L",
        "colab_type": "text"
      },
      "source": [
        "<h2 align=center> Facial Expression Recognition with Keras</h2>"
      ]
    },
    {
      "cell_type": "markdown",
      "metadata": {
        "id": "view-in-github",
        "colab_type": "text"
      },
      "source": [
        "<a href=\"https://colab.research.google.com/github/PradyumnaKrishna/FER/blob/main/Model%20Training/Training.ipynb\" target=\"_parent\"><img src=\"https://colab.research.google.com/assets/colab-badge.svg\" alt=\"Open In Colab\"/></a>"
      ]
    },
    {
      "cell_type": "markdown",
      "metadata": {
        "id": "vqsPyhRg0r9P",
        "colab_type": "text"
      },
      "source": [
        "### Import Libraries"
      ]
    },
    {
      "cell_type": "code",
      "metadata": {
        "colab_type": "code",
        "id": "wvGxjjeV-9Ls",
        "colab": {}
      },
      "source": [
        "import numpy as np\n",
        "import seaborn as sns\n",
        "import matplotlib.pyplot as plt\n",
        "import os\n",
        "%matplotlib inline\n",
        "\n",
        "from tensorflow.keras.preprocessing.image import ImageDataGenerator\n",
        "from tensorflow.keras.layers import Dense, Input, Dropout,Flatten, Conv2D\n",
        "from tensorflow.keras.layers import BatchNormalization, Activation, MaxPooling2D\n",
        "from tensorflow.keras.models import Model, Sequential\n",
        "from tensorflow.keras.optimizers import Adam\n",
        "from tensorflow.keras.callbacks import ModelCheckpoint, ReduceLROnPlateau, EarlyStopping, Callback\n",
        "from tensorflow.keras.utils import plot_model\n",
        "\n",
        "from IPython.display import SVG, Image\n",
        "from livelossplot import PlotLossesKerasTF\n",
        "import tensorflow as tf\n",
        "print(\"Tensorflow version:\", tf.__version__)"
      ],
      "execution_count": null,
      "outputs": []
    },
    {
      "cell_type": "markdown",
      "metadata": {
        "id": "qEO0ntla0r9Z",
        "colab_type": "text"
      },
      "source": [
        "### Download Dataset and Checking it"
      ]
    },
    {
      "cell_type": "code",
      "metadata": {
        "colab_type": "code",
        "id": "TalL_1Qr-9Qz",
        "colab": {}
      },
      "source": [
        "! wget https://github.com/PradyumnaKrishna/FER/raw/main/Model%20Training/fer2013.zip\n",
        "! unzip fer2013.zip"
      ],
      "execution_count": null,
      "outputs": []
    },
    {
      "cell_type": "code",
      "metadata": {
        "id": "nh2bqar60r9f",
        "colab_type": "code",
        "colab": {}
      },
      "source": [
        "for expression in os.listdir(\"train/\"):\n",
        "    print(str(len(os.listdir(\"train/\" + expression))) + \" \" + expression + \" images\")"
      ],
      "execution_count": null,
      "outputs": []
    },
    {
      "cell_type": "markdown",
      "metadata": {
        "id": "iMcA6aiz0r9j",
        "colab_type": "text"
      },
      "source": [
        "### Generate Training and Validation Batches"
      ]
    },
    {
      "cell_type": "code",
      "metadata": {
        "colab_type": "code",
        "id": "iri8ehFw-9Tj",
        "colab": {}
      },
      "source": [
        "img_size = 48\n",
        "batch_size = 32\n",
        "\n",
        "datagen_train = ImageDataGenerator(rotation_range=15,\n",
        "                                   width_shift_range=0.15,\n",
        "                                   height_shift_range=0.15,\n",
        "                                   shear_range=0.15,\n",
        "                                   zoom_range=0.15,\n",
        "                                   horizontal_flip=True)\n",
        "\n",
        "train_generator = datagen_train.flow_from_directory(\"train/\",\n",
        "                                                   target_size=(img_size, img_size),\n",
        "                                                   color_mode='grayscale',\n",
        "                                                   batch_size=batch_size,\n",
        "                                                   class_mode='categorical',\n",
        "                                                   shuffle=True)\n",
        "\n",
        "datagen_validation = ImageDataGenerator(horizontal_flip=True)\n",
        "\n",
        "validation_generator = datagen_train.flow_from_directory(\"test/\",\n",
        "                                                   target_size=(img_size, img_size),\n",
        "                                                   color_mode='grayscale',\n",
        "                                                   batch_size=batch_size,\n",
        "                                                   class_mode='categorical',\n",
        "                                                   shuffle=False)"
      ],
      "execution_count": null,
      "outputs": []
    },
    {
      "cell_type": "markdown",
      "metadata": {
        "id": "u-AxKwMW0r9n",
        "colab_type": "text"
      },
      "source": [
        " "
      ]
    },
    {
      "cell_type": "markdown",
      "metadata": {
        "id": "m1wVJu8O0r9o",
        "colab_type": "text"
      },
      "source": [
        "### Create CNN Model"
      ]
    },
    {
      "cell_type": "code",
      "metadata": {
        "id": "OgtWG7D40r9p",
        "colab_type": "code",
        "colab": {}
      },
      "source": [
        "# Initialising the CNN\n",
        "model = Sequential()\n",
        "\n",
        "# Convolution Block 1\n",
        "model.add(Conv2D(64,(5,5), padding='same', activation='elu', input_shape=(48, 48,1)))\n",
        "model.add(BatchNormalization())\n",
        "model.add(Conv2D(64,(5,5), padding='same', activation='elu'))\n",
        "model.add(BatchNormalization())\n",
        "model.add(MaxPooling2D(pool_size=(2, 2)))\n",
        "model.add(Dropout(0.4))\n",
        "\n",
        "# Convolution Block 2\n",
        "model.add(Conv2D(128,(3,3), padding='same', activation='elu'))\n",
        "model.add(BatchNormalization())\n",
        "model.add(Conv2D(128,(3,3), padding='same', activation='elu'))\n",
        "model.add(BatchNormalization())\n",
        "model.add(MaxPooling2D(pool_size=(2, 2)))\n",
        "model.add(Dropout(0.4))\n",
        "\n",
        "# Convolution Block 3\n",
        "model.add(Conv2D(256,(3,3), padding='same', activation='elu'))\n",
        "model.add(BatchNormalization())\n",
        "model.add(Conv2D(256,(3,3), padding='same', activation='elu'))\n",
        "model.add(BatchNormalization())\n",
        "model.add(MaxPooling2D(pool_size=(2, 2)))\n",
        "model.add(Dropout(0.5))\n",
        "\n",
        "# Flattening\n",
        "model.add(Flatten())\n",
        "\n",
        "# Fully Connected layer\n",
        "model.add(Dense(128, activation='elu'))\n",
        "model.add(BatchNormalization())\n",
        "model.add(Dropout(0.6))\n",
        "\n",
        "# Output layer\n",
        "model.add(Dense(7, activation='softmax'))\n",
        "\n",
        "# Model Compilation\n",
        "opt = Adam(0.001)\n",
        "model.compile(optimizer=opt, loss='categorical_crossentropy', metrics=['accuracy'])\n",
        "model.summary()"
      ],
      "execution_count": null,
      "outputs": []
    },
    {
      "cell_type": "markdown",
      "metadata": {
        "id": "Vg65coJd0r9s",
        "colab_type": "text"
      },
      "source": [
        " "
      ]
    },
    {
      "cell_type": "markdown",
      "metadata": {
        "id": "uAr2xMjs5jxT",
        "colab_type": "text"
      },
      "source": [
        "### Define Callbacks\n"
      ]
    },
    {
      "cell_type": "code",
      "metadata": {
        "id": "2RK66YuF5nLy",
        "colab_type": "code",
        "colab": {}
      },
      "source": [
        "# Callback to save Model\n",
        "checkpoint = ModelCheckpoint(\n",
        "    \"model_weights.h5\",\n",
        "    monitor='val_accuracy',\n",
        "    save_weights_only=True,\n",
        "    mode='max',\n",
        "    verbose=1\n",
        ")\n",
        "\n",
        "# Callback to early stopping of Training\n",
        "early_stopping = EarlyStopping(\n",
        "    monitor='val_accuracy',\n",
        "    min_delta=0.00005,\n",
        "    patience=11,\n",
        "    verbose=1,\n",
        "    restore_best_weights=True,\n",
        ")\n",
        "\n",
        "# Callback to reduce Learning Rate\n",
        "lr_scheduler = ReduceLROnPlateau(\n",
        "    monitor='val_accuracy',\n",
        "    factor=0.5,\n",
        "    patience=7,\n",
        "    min_lr=1e-8,\n",
        "    verbose=1,\n",
        ")\n",
        "\n",
        "callbacks = [\n",
        "    PlotLossesKerasTF(),\n",
        "    early_stopping,\n",
        "    lr_scheduler,\n",
        "    checkpoint,\n",
        "]"
      ],
      "execution_count": null,
      "outputs": []
    },
    {
      "cell_type": "markdown",
      "metadata": {
        "id": "p7XebIK-5ncj",
        "colab_type": "text"
      },
      "source": [
        ""
      ]
    },
    {
      "cell_type": "markdown",
      "metadata": {
        "id": "xmdJJAmT0r9s",
        "colab_type": "text"
      },
      "source": [
        "### Train and Evaluate Model"
      ]
    },
    {
      "cell_type": "code",
      "metadata": {
        "id": "_rOlbaSz0r9t",
        "colab_type": "code",
        "colab": {}
      },
      "source": [
        "epochs = 200\n",
        "\n",
        "steps_per_epoch = train_generator.n//train_generator.batch_size\n",
        "validation_steps = validation_generator.n//validation_generator.batch_size\n",
        "\n",
        "\n",
        "history = model.fit(\n",
        "    x=train_generator,\n",
        "    steps_per_epoch=steps_per_epoch,\n",
        "    epochs=epochs,\n",
        "    validation_data = validation_generator,\n",
        "    validation_steps = validation_steps,\n",
        "    callbacks=callbacks\n",
        ")"
      ],
      "execution_count": null,
      "outputs": []
    },
    {
      "cell_type": "markdown",
      "metadata": {
        "id": "rib_EYky0r9w",
        "colab_type": "text"
      },
      "source": [
        " "
      ]
    },
    {
      "cell_type": "markdown",
      "metadata": {
        "id": "dvlFrgP20r9x",
        "colab_type": "text"
      },
      "source": [
        "### Save Model as JSON string"
      ]
    },
    {
      "cell_type": "code",
      "metadata": {
        "colab_type": "code",
        "id": "cHw8ir7CVAE0",
        "colab": {}
      },
      "source": [
        "model_json = model.to_json()\n",
        "with open(\"model.json\", 'w') as json_file:\n",
        "    json_file.write(model_json)"
      ],
      "execution_count": null,
      "outputs": []
    }
  ]
}
